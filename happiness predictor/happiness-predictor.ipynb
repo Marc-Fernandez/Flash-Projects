{
 "cells": [
  {
   "cell_type": "code",
   "execution_count": 1,
   "metadata": {},
   "outputs": [],
   "source": [
    "import matplotlib.pyplot as plt\n",
    "import numpy as np\n",
    "import pandas as pd\n",
    "import sklearn.linear_model"
   ]
  },
  {
   "cell_type": "code",
   "execution_count": 2,
   "metadata": {},
   "outputs": [],
   "source": [
    "bli_oecd = pd.read_csv(\"./BLI_07012022180640920.csv\", thousands=\",\", decimal=\".\")\n",
    "gdp_per_capita = pd.read_csv(\"./WEO_Data.csv\", thousands = \",\", delimiter = \";\", na_values=\"n/a\")"
   ]
  },
  {
   "cell_type": "code",
   "execution_count": 3,
   "metadata": {},
   "outputs": [],
   "source": [
    "# Filter the bli table to show total average life satisfaction index\n",
    "\n",
    "bli_avgscore = bli_oecd[bli_oecd[\"Indicator\"] == \"Life satisfaction\"]\n",
    "bli_avgscore = bli_avgscore[bli_avgscore[\"INEQUALITY\"] == \"TOT\"]"
   ]
  },
  {
   "cell_type": "code",
   "execution_count": 4,
   "metadata": {},
   "outputs": [],
   "source": [
    "gdp_bli_merged = pd.merge(bli_avgscore, gdp_per_capita, how=\"left\")"
   ]
  },
  {
   "cell_type": "code",
   "execution_count": 5,
   "metadata": {},
   "outputs": [],
   "source": [
    "# Create a dataframe with all the data for training\n",
    "\n",
    "training_data = pd.DataFrame({\n",
    "\"Acronym\": gdp_bli_merged[\"LOCATION\"], \n",
    "\"Country\": gdp_bli_merged[\"Country\"],\n",
    "\"Happiness_score\": gdp_bli_merged[\"Value\"],\n",
    "\"GDP_per_capita\": gdp_bli_merged[\"2021\"]}).dropna()"
   ]
  },
  {
   "cell_type": "code",
   "execution_count": 6,
   "metadata": {},
   "outputs": [],
   "source": [
    "# Isolate the dependent and independent variables\n",
    "\n",
    "x = np.c_[training_data[\"GDP_per_capita\"]]\n",
    "y = np.c_[training_data[\"Happiness_score\"]]"
   ]
  },
  {
   "cell_type": "code",
   "execution_count": 7,
   "metadata": {},
   "outputs": [
    {
     "data": {
      "text/plain": [
       "<matplotlib.collections.PathCollection at 0x7fec92e7b190>"
      ]
     },
     "execution_count": 7,
     "metadata": {},
     "output_type": "execute_result"
    },
    {
     "data": {
      "image/png": "[encoded data removed]",
      "text/plain": [
       "<Figure size 432x288 with 1 Axes>"
      ]
     },
     "metadata": {
      "needs_background": "light"
     },
     "output_type": "display_data"
    }
   ],
   "source": [
    "# Data visualization\n",
    "\n",
    "plt.scatter(training_data[\"GDP_per_capita\"], training_data[\"Happiness_score\"])"
   ]
  },
  {
   "cell_type": "code",
   "execution_count": 8,
   "metadata": {},
   "outputs": [
    {
     "data": {
      "text/plain": [
       "LinearRegression()"
      ]
     },
     "execution_count": 8,
     "metadata": {},
     "output_type": "execute_result"
    }
   ],
   "source": [
    "# Creating the model\n",
    "\n",
    "model = sklearn.linear_model.LinearRegression()\n",
    "model.fit(x, y)"
   ]
  },
  {
   "cell_type": "code",
   "execution_count": 9,
   "metadata": {},
   "outputs": [
    {
     "data": {
      "text/plain": [
       "array([[5.97329636],\n",
       "       [6.10500669],\n",
       "       [6.04082987],\n",
       "       [6.19434678],\n",
       "       [6.24675386],\n",
       "       [6.40063702],\n",
       "       [6.66444841],\n",
       "       [6.71458873],\n",
       "       [5.99795369],\n",
       "       [6.6341521 ],\n",
       "       [6.02690522],\n",
       "       [6.13569834],\n",
       "       [6.22849363],\n",
       "       [6.66991844],\n",
       "       [6.03979018],\n",
       "       [6.00111526],\n",
       "       [6.10893709],\n",
       "       [6.06749203],\n",
       "       [6.17334982],\n",
       "       [6.1606154 ],\n",
       "       [6.79491516],\n",
       "       [6.28461469],\n",
       "       [5.98476626],\n",
       "       [5.9634322 ],\n",
       "       [6.04030796],\n",
       "       [6.01661901],\n",
       "       [6.00290769],\n",
       "       [6.63366314],\n",
       "       [5.96621172],\n",
       "       [5.97442609],\n",
       "       [6.29315603],\n",
       "       [6.19804749],\n",
       "       [6.15745179],\n",
       "       [5.99343499],\n",
       "       [5.96886139],\n",
       "       [6.00839422],\n",
       "       [6.2301077 ],\n",
       "       [6.02678689],\n",
       "       [5.95894149],\n",
       "       [6.76582939],\n",
       "       [6.03359663],\n",
       "       [6.11734613],\n",
       "       [6.2217976 ],\n",
       "       [6.10116641],\n",
       "       [6.12542237],\n",
       "       [6.0758311 ],\n",
       "       [6.1930238 ],\n",
       "       [6.07401203],\n",
       "       [5.99220075],\n",
       "       [6.10594482],\n",
       "       [6.02146748],\n",
       "       [6.60530612],\n",
       "       [6.16561299],\n",
       "       [5.98418475],\n",
       "       [6.69850407],\n",
       "       [6.03275878],\n",
       "       [6.36115522],\n",
       "       [6.16213804],\n",
       "       [6.06741655],\n",
       "       [5.95381472],\n",
       "       [5.98526932],\n",
       "       [6.2672845 ],\n",
       "       [5.99252419],\n",
       "       [6.0273405 ],\n",
       "       [6.79143643],\n",
       "       [6.42557744],\n",
       "       [6.71283018],\n",
       "       [6.04716601],\n",
       "       [6.1195974 ],\n",
       "       [6.13274133],\n",
       "       [7.38025096],\n",
       "       [6.01106617],\n",
       "       [6.01145249],\n",
       "       [6.09201612],\n",
       "       [6.52918326],\n",
       "       [6.09210378],\n",
       "       [6.02273459],\n",
       "       [5.98267609],\n",
       "       [6.57241227],\n",
       "       [6.52501189],\n",
       "       [6.0616399 ],\n",
       "       [5.98882921],\n",
       "       [6.12628491],\n",
       "       [7.57511707],\n",
       "       [5.97433721],\n",
       "       [5.97270852],\n",
       "       [6.32563625],\n",
       "       [6.25887876],\n",
       "       [5.98576174],\n",
       "       [6.55759027],\n",
       "       [6.03407882],\n",
       "       [6.23931838],\n",
       "       [6.22021487],\n",
       "       [5.95361596],\n",
       "       [6.06028004],\n",
       "       [5.97059965],\n",
       "       [6.07665866],\n",
       "       [6.00746393],\n",
       "       [6.74547614],\n",
       "       [6.54128687],\n",
       "       [5.97081303],\n",
       "       [6.02235209],\n",
       "       [6.84852193],\n",
       "       [6.36763838],\n",
       "       [6.02324898],\n",
       "       [6.34922257],\n",
       "       [6.00387757],\n",
       "       [6.12929241],\n",
       "       [6.12527272],\n",
       "       [6.06748706],\n",
       "       [6.43165353],\n",
       "       [6.42165667],\n",
       "       [6.42969085],\n",
       "       [7.2351793 ],\n",
       "       [6.38694071],\n",
       "       [6.34335404],\n",
       "       [5.9843257 ],\n",
       "       [6.00985505],\n",
       "       [6.58009269],\n",
       "       [6.00085223],\n",
       "       [6.31297739],\n",
       "       [5.97663107],\n",
       "       [7.33306981],\n",
       "       [5.98433306],\n",
       "       [6.49253382],\n",
       "       [6.13440852],\n",
       "       [6.26397981],\n",
       "       [6.12948583],\n",
       "       [6.11226855],\n",
       "       [6.00692095],\n",
       "       [6.16861479],\n",
       "       [6.68921239],\n",
       "       [6.95425861],\n",
       "       [6.73977084],\n",
       "       [5.9538459 ],\n",
       "       [6.19725563],\n",
       "       [5.98360735],\n",
       "       [6.03495929],\n",
       "       [6.28050736],\n",
       "       [6.09080661],\n",
       "       [6.38860646],\n",
       "       [5.98842165],\n",
       "       [6.90471875],\n",
       "       [6.57733584],\n",
       "       [6.84232677],\n",
       "       [6.25927532],\n",
       "       [5.98836941],\n",
       "       [6.0195992 ],\n",
       "       [6.10217991],\n",
       "       [5.97685682],\n",
       "       [5.99714821]])"
      ]
     },
     "execution_count": 9,
     "metadata": {},
     "output_type": "execute_result"
    }
   ],
   "source": [
    "# Predicting life satisfaction using GDP as the predictor\n",
    "\n",
    "gdp_per_capita = gdp_per_capita.dropna()\n",
    "model.predict(gdp_per_capita[[\"2021\"]])"
   ]
  }
 ],
 "metadata": {
  "interpreter": {
   "hash": "262f62c2fc1a9ead38059340a20c8574343993e98435f92f9744bf7263c3b1cc"
  },
  "kernelspec": {
   "display_name": "Python 3.8.8 64-bit ('base': conda)",
   "language": "python",
   "name": "python3"
  },
  "language_info": {
   "codemirror_mode": {
    "name": "ipython",
    "version": 3
   },
   "file_extension": ".py",
   "mimetype": "text/x-python",
   "name": "python",
   "nbconvert_exporter": "python",
   "pygments_lexer": "ipython3",
   "version": "3.8.8"
  },
  "orig_nbformat": 4
 },
 "nbformat": 4,
 "nbformat_minor": 2
}
